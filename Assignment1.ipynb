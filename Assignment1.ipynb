{
 "cells": [
  {
   "cell_type": "code",
   "execution_count": 5,
   "metadata": {},
   "outputs": [
    {
     "name": "stdout",
     "output_type": "stream",
     "text": [
      "twinkle, twinkle, little star,\n",
      "\tHow i wonder what you are!\n",
      "\t\tUp above the world so high,\n",
      "\t\tlike a diamond in the sky.\n",
      "twinkle, twinkle, little star,\n",
      "\tHow i wonder what you are!\n",
      "\n",
      "\n",
      "Python Version is: 3.7.3 (default, Mar 27 2019, 17:13:21) [MSC v.1915 64 bit (AMD64)]\n",
      "\n",
      "\n",
      "Current date and time : \n",
      "2019-11-05 23:03:42 \n",
      "\n",
      "\n",
      "Enter the Radius of a Circle: 25\n",
      "Area of a Given Radius oF a Circle is:  1963.4937499999999 \n",
      "\n",
      "\n",
      "Enter First Name: Fahad \n",
      "Enter Last Name: Maqsood\n",
      "doosqaM  dahaF\n",
      "\n",
      "\n",
      "\n",
      "Enter One input75\n",
      "Enter Second input25\n",
      "Addition Is:  100\n"
     ]
    }
   ],
   "source": [
    "#Question No 1..\n",
    "print(\"twinkle, twinkle, little star,\")\n",
    "print(\"\\tHow i wonder what you are!\")\n",
    "print(\"\\t\\tUp above the world so high,\")\n",
    "print(\"\\t\\tlike a diamond in the sky.\")\n",
    "print(\"twinkle, twinkle, little star,\")\n",
    "print(\"\\tHow i wonder what you are!\")\n",
    "\n",
    "\n",
    "\n",
    "#Question No 2..\n",
    "import sys\n",
    "print(\"\\n\\nPython Version is: \"+sys.version)\n",
    "\n",
    "\n",
    "\n",
    "#Question No 3..\n",
    "import datetime\n",
    "now = datetime.datetime.now()\n",
    "print (\"\\n\\nCurrent date and time : \")          \n",
    "print (now.strftime(\"%Y-%m-%d %H:%M:%S \\n\\n\")) #For Date And Time (Year,Month,Day,Hour,Minutes,Seconds) Format Print...\n",
    "\n",
    "\n",
    "\n",
    "#Question No 4..\n",
    "Value_of_pie = 3.14159\n",
    "Radius = float(input(\"Enter the Radius of a Circle: \"))\n",
    "area_of_a_circle = Value_of_pie*Radius*Radius\n",
    "print(\"Area of a Given Radius oF a Circle is: \",area_of_a_circle,\"\\n\\n\")\n",
    "\n",
    "\n",
    "\n",
    "\n",
    "#Question No 5..\n",
    "def reverse_slicing(s):\n",
    "    return s[::-1]\n",
    "\n",
    "user_first_name = input(\"Enter First Name: \")\n",
    "user_last_name = input(\"Enter Last Name: \")\n",
    "print(reverse_slicing(user_first_name +\" \"+ user_last_name))\n",
    "\n",
    "\n",
    "\n",
    "\n",
    "#Question No 6..\n",
    "print(\"\\n\\n\")\n",
    "InputOne = int(input(\"Enter One input\"))\n",
    "InputTwo = int(input(\"Enter Second input\"))\n",
    "Addition = (InputOne + InputTwo)\n",
    "print(\"Addition Is: \",Addition)\n",
    "\n",
    "\n"
   ]
  },
  {
   "cell_type": "code",
   "execution_count": null,
   "metadata": {},
   "outputs": [],
   "source": []
  }
 ],
 "metadata": {
  "kernelspec": {
   "display_name": "Python 3",
   "language": "python",
   "name": "python3"
  },
  "language_info": {
   "codemirror_mode": {
    "name": "ipython",
    "version": 3
   },
   "file_extension": ".py",
   "mimetype": "text/x-python",
   "name": "python",
   "nbconvert_exporter": "python",
   "pygments_lexer": "ipython3",
   "version": "3.7.3"
  }
 },
 "nbformat": 4,
 "nbformat_minor": 2
}
